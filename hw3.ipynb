{
 "cells": [
  {
   "cell_type": "markdown",
   "id": "769c72da-a0ec-414a-929a-239ba63c0f4a",
   "metadata": {},
   "source": [
    "# 1. a) Which algorithm makes the fewest mistakes?"
   ]
  },
  {
   "cell_type": "markdown",
   "id": "50e69109-6282-476b-a4ed-b286c0ef09f0",
   "metadata": {},
   "source": [
    "Error rate of NN"
   ]
  },
  {
   "cell_type": "code",
   "execution_count": 4,
   "id": "10d18378-8bc6-4258-8b45-59fec3575dae",
   "metadata": {},
   "outputs": [
    {
     "data": {
      "text/plain": [
       "0.08"
      ]
     },
     "execution_count": 4,
     "metadata": {},
     "output_type": "execute_result"
    }
   ],
   "source": [
    "8/100"
   ]
  },
  {
   "cell_type": "markdown",
   "id": "12a0cb89-72f3-48cc-a5da-920bb4d9c5f6",
   "metadata": {},
   "source": [
    "Error rate of NA"
   ]
  },
  {
   "cell_type": "code",
   "execution_count": 6,
   "id": "ad52042c-dcf2-4c5f-a9a7-42748d156a22",
   "metadata": {},
   "outputs": [
    {
     "data": {
      "text/plain": [
       "0.1188118811881188"
      ]
     },
     "execution_count": 6,
     "metadata": {},
     "output_type": "execute_result"
    }
   ],
   "source": [
    "12/101"
   ]
  },
  {
   "cell_type": "markdown",
   "id": "e47fb43e-974d-4566-b339-bda0445a7132",
   "metadata": {},
   "source": [
    "NN makes the fewest mistakes"
   ]
  },
  {
   "cell_type": "markdown",
   "id": "a508f58c-26b0-4293-bf3e-2b67256e01af",
   "metadata": {},
   "source": [
    "# 1. b) Which algorithm is better for the zoo? Explain."
   ]
  },
  {
   "cell_type": "markdown",
   "id": "b37879dd-9139-4a8f-8a45-0cb6829141b6",
   "metadata": {},
   "source": [
    "The zoo can tolerate a false recognition of human as bird more than a bird as a human, so the error rate of recognizing a bird as human shall be minimized. The NN has an error rate of 3/48 recognizing a bird as a human, while the NA has 1/48. Then the NA algorithm is better for the zoo."
   ]
  },
  {
   "cell_type": "markdown",
   "id": "542c061f-7cdd-4b9c-bb3d-bcc195de6f65",
   "metadata": {},
   "source": [
    "# 1. c) During the pandemic the number of visitors plummets, and it is only the zoo keeper visiting. So instead of 52% of the photos taken at the aviary door being people, it is now only 1%. Make new truth tables for both algorithms."
   ]
  },
  {
   "cell_type": "markdown",
   "id": "3aca2cfc-eed9-4297-ab55-95b8023bbb20",
   "metadata": {},
   "source": [
    "#The error rates of each algorithm reads\n",
    "$$\n",
    "\\begin{aligned}\n",
    "& \\text {Table 1.1. Error rate for each algorithm}\\\\\n",
    "&\\begin{array}{ccc}\n",
    "\\hline \\hline \\text { Algorithm } & \\text { Bird as human } & \\text { Human as bird} \\\\\n",
    "\\hline \n",
    "NN & 3/48=6.25\\% & 5/52=9.62\\% \\\\\n",
    "NA & 1/48=2.01\\% & 11/53=20.75\\% \\\\\n",
    "\\hline\n",
    "\\end{array}\n",
    "\\end{aligned}\n",
    "$$\n",
    "\n",
    "#Assume for each algorithm 100 photos were used to test their performance. There are 1 true human and 99 true birds. Following the error rates of both algorithms, the new truth tables are \n",
    "$$\n",
    "\\begin{aligned}\n",
    "& \\text {Table 1.1. New truth table of NN}\\\\\n",
    "&\\begin{array}{ccc}\n",
    "\\hline \\hline \\text { Algorithm } & \\text { True bird} & \\text { True person} \\\\\n",
    "\\hline \n",
    "\\text{NN bird} & 99\\times(1-6.25\\%)=92.8 &  1\\times 9.62\\%=0.1\\\\\n",
    "\\text{NN person} & 99\\times 6.25\\%=6.2 & 1\\times(1-9.62\\%)=0.9 \\\\\n",
    "\\hline\n",
    "\\end{array}\n",
    "\\end{aligned}\n",
    "$$\n",
    "\n",
    "$$\n",
    "\\begin{aligned}\n",
    "& \\text {Table 1.1. New truth table of NA}\\\\\n",
    "&\\begin{array}{ccc}\n",
    "\\hline \\hline \\text { Algorithm } & \\text { True bird} & \\text { True person} \\\\\n",
    "\\hline \n",
    "\\text{NA bird} & 99\\times(1-2.01\\%)=97 &  1\\times 20.75\\%=0.21\\\\\n",
    "\\text{NA person} & 99\\times 2.01\\%=2 & 1\\times(1-20.75\\%)=0.79 \\\\\n",
    "\\hline\n",
    "\\end{array}\n",
    "\\end{aligned}\n",
    "$$"
   ]
  },
  {
   "cell_type": "markdown",
   "id": "2404f2e0-fb98-4f45-afc1-48e2086918f7",
   "metadata": {},
   "source": [
    "# 2. a) What is the pdf of the sum of two identical exponential distributions?"
   ]
  },
  {
   "cell_type": "markdown",
   "id": "80664258-b7e1-4929-915f-7347ee6668a2",
   "metadata": {},
   "source": [
    "Let the exponential distribution be \n",
    "$$\\begin{align*}\n",
    "f(x)&=\\lambda e^{-\\lambda x}\n",
    "\\end{align*}$$"
   ]
  },
  {
   "cell_type": "markdown",
   "id": "2dc6bea4-d8dd-4d11-b7ea-b806a5fd8dbb",
   "metadata": {},
   "source": [
    "The sum of two identical ones is\n",
    "$$\\begin{align*}\n",
    "f(x)+f(x)=2\\lambda e^{-\\lambda x}\n",
    "\\end{align*}$$"
   ]
  },
  {
   "cell_type": "markdown",
   "id": "95e8da41-8ff3-48ee-af8c-e78bc504cae5",
   "metadata": {},
   "source": [
    "# 2. b) What is the pdf of the ratio of two zero-mean unity variance normal distributions  𝑋1/𝑋2 ?"
   ]
  },
  {
   "cell_type": "markdown",
   "id": "71220023-b240-4986-81f7-48b292c87706",
   "metadata": {},
   "source": [
    "Let two zero-mean unity variance normal distributions be \n",
    "$$\n",
    "\\begin{align*}\n",
    "X1&=\\frac{1}{\\sqrt{2 \\pi}} e^{-\\frac{1}{2}x^{2}}\\\\\n",
    "X2&=\\frac{1}{\\sqrt{2 \\pi}} e^{-\\frac{1}{2}x^{2}}\n",
    "\\end{align*}\n",
    "$$"
   ]
  },
  {
   "cell_type": "markdown",
   "id": "33ba489c-87c3-406c-a83b-df7e9905ad92",
   "metadata": {},
   "source": [
    "Their ratio is $$\\frac{X1}{X2}=1$$"
   ]
  },
  {
   "cell_type": "markdown",
   "id": "7156d1b8-2b5b-47b5-8bc1-5f6b84309561",
   "metadata": {},
   "source": [
    "# 2. c) So far we have looked at 1D probability distributions, but it is possible to have a multi-dimensional vector distribution. A simple first introduction is the 2D Guassian; it looks like a smeared spot. Mathematically this is given by  𝑋𝑖̂ +𝑌𝑗̂   where both  𝑋  and  𝑌  are drawn from 1D Gaussian distributions. If I measure the amplitude of this vector, what is its pdf? (Hint, the amplitude is always positive.)"
   ]
  },
  {
   "cell_type": "markdown",
   "id": "42538102-f53e-4d25-a152-60b23a95f30e",
   "metadata": {},
   "source": [
    "The amplitude of a 2D vector is given by $$\\sqrt{X^2+Y^2}$$. If the respective distributions of X and Y are $$\\begin{align*}\n",
    "f(X)&=\\frac{1}{\\sqrt{2 \\pi \\sigma^2}} e^{-\\frac{X^{2}}{2\\sigma^2}}\\\\\n",
    "f(Y)&=\\frac{1}{\\sqrt{2 \\pi\\sigma^2}} e^{-\\frac{Y^{2}}{2\\sigma^2}}\n",
    "\\end{align*}$$\n"
   ]
  },
  {
   "cell_type": "markdown",
   "id": "6cd2ca27-b129-4239-ae80-70126d3a327d",
   "metadata": {},
   "source": [
    "The cumulative density distribution of the amplitude is $$\n",
    "\\begin{align*}\n",
    "F(\\sqrt{X^2+Y^2})=\\int_X\\int_Y \\left(\\frac{1}{\\sqrt{2 \\pi \\sigma^2}} e^{-\\frac{X^{2}}{2\\sigma^2}}\\right)\\left(\\frac{1}{\\sqrt{2 \\pi\\sigma^2}} e^{-\\frac{Y^{2}}{2\\sigma^2}}\\right)dYdX\n",
    "\\end{align*}$$"
   ]
  },
  {
   "cell_type": "markdown",
   "id": "a5074c77-2ba1-4a97-a27a-9a08e4237af4",
   "metadata": {},
   "source": [
    "Change variable and let $$r^2=X^2+Y^2$$, \n",
    "$$\\begin{align*}\n",
    "F(r)=\\frac{1}{2\\pi \\sigma^2} \\int_r\\int_\\theta  r e^{-\\frac{r^{2}}{2\\sigma^2}} dr d\\theta=\n",
    "\\frac{r}{\\sigma^{2}} e^{-r^{2} /\\left(2 \\sigma^{2}\\right)}\n",
    "\\end{align*}$$"
   ]
  },
  {
   "cell_type": "markdown",
   "id": "1aff578d-deb8-4108-9565-ec7ca4eaf200",
   "metadata": {},
   "source": [
    "It looks like Rayleigh distribution. "
   ]
  },
  {
   "cell_type": "code",
   "execution_count": null,
   "id": "1f5de37f-9503-4bd3-98b2-2e806e721f69",
   "metadata": {},
   "outputs": [],
   "source": []
  }
 ],
 "metadata": {
  "kernelspec": {
   "display_name": "Python 3",
   "language": "python",
   "name": "python3"
  },
  "language_info": {
   "codemirror_mode": {
    "name": "ipython",
    "version": 3
   },
   "file_extension": ".py",
   "mimetype": "text/x-python",
   "name": "python",
   "nbconvert_exporter": "python",
   "pygments_lexer": "ipython3",
   "version": "3.8.8"
  }
 },
 "nbformat": 4,
 "nbformat_minor": 5
}
