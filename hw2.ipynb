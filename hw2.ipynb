{
 "cells": [
  {
   "cell_type": "markdown",
   "id": "cb8da207-59cb-4d74-8eb2-b74aea3d3b36",
   "metadata": {},
   "source": [
    "# 1. Rolling two ones is less probable than rolling sevens"
   ]
  },
  {
   "cell_type": "markdown",
   "id": "deff397c-8c34-4d39-81ba-b9f47931d1db",
   "metadata": {},
   "source": [
    "Probability of rolling two ones: $$\\frac{1}{6}\\times\\frac{1}{6}=\\frac{1}{36} $$"
   ]
  },
  {
   "cell_type": "markdown",
   "id": "7cc67cf5-6c98-4141-86d2-d2a0c758db87",
   "metadata": {},
   "source": [
    "Probability of rolling sevens: There are three possible combinations 1+6 or 2+5 or 3+4. For each combination, both 1+6 and 6+1 sum to seven, so the probability of rolling seven with the combination 1+6 is $$\\frac{1}{6}\\times\\frac{1}{6}+\\frac{1}{6}\\times\\frac{1}{6}=\\frac{2}{36} $$, and the total probability of rolling sevens with all possible combinations is\n",
    "$$\\frac{2}{36}+\\frac{2}{36}+\\frac{2}{36}=\\frac{6}{36}$$"
   ]
  },
  {
   "cell_type": "markdown",
   "id": "26ccf985-2b4e-419a-94db-e5b8f65f2b2b",
   "metadata": {},
   "source": [
    "The ratio of the probabilities is $$\\frac{P_\\text{two ones}}{P_\\text{sevens}}=\\frac{1}{6}$$"
   ]
  },
  {
   "cell_type": "markdown",
   "id": "716118e0-d6a5-4efd-867a-04bb2032fc82",
   "metadata": {},
   "source": [
    "# 2. Probability of the sum of two six-sided dices"
   ]
  },
  {
   "cell_type": "markdown",
   "id": "e4ab968b-2a44-41ff-a361-0d3f1ecaa16a",
   "metadata": {},
   "source": [
    "Using $$\n",
    "P_{A+B}(x)=\\sum_{z} P_{A}(z) P_{B}(x-z) \\cdot\\cdot\\cdot (1)$$ and enumerate all possibilities: \n",
    "$$P_{A+B}(2)=P_{1+1}=\\frac{1}{6}\\times\\frac{1}{6}=\\frac{1}{36}\\\\\n",
    "P_{A+B}(3)=P_{1+2}+P_{2+1}=\\frac{1}{6}\\times\\frac{1}{6}+\\frac{1}{6}\\times\\frac{1}{6}=\\frac{2}{36}\\\\\n",
    "P_{A+B}(4)=P_{1+3}+P_{2+2}+P_{3+1}=\\frac{1}{6}\\times\\frac{1}{6}+\\frac{1}{6}\\times\\frac{1}{6}+\\frac{1}{6}\\times\\frac{1}{6}=\\frac{3}{36}\\\\\n",
    "P_{A+B}(5)=P_{1+4}+P_{2+3}+P_{3+2}+P_{4+1}=\\frac{1}{6}\\times\\frac{1}{6}+\\frac{1}{6}\\times\\frac{1}{6}+\\frac{1}{6}\\times\\frac{1}{6}+\\frac{1}{6}\\times\\frac{1}{6}=\\frac{4}{36}\\\\\n",
    "P_{A+B}(6)=P_{1+5}+P_{2+4}+P_{3+3}+P_{4+2}+P_{5+1}=\\frac{1}{6}\\times\\frac{1}{6}+\\frac{1}{6}\\times\\frac{1}{6}+\\frac{1}{6}\\times\\frac{1}{6}+\\frac{1}{6}\\times\\frac{1}{6}+\\frac{1}{6}\\times\\frac{1}{6}=\\frac{5}{36}\\\\\n",
    "P_{A+B}(7)=P_{1+6}+P_{2+5}+P_{3+4}+P_{4+3}+P_{5+2}+P_{6+1}=\\frac{1}{6}\\times\\frac{1}{6}+\\frac{1}{6}\\times\\frac{1}{6}+\\frac{1}{6}\\times\\frac{1}{6}+\\frac{1}{6}\\times\\frac{1}{6}+\\frac{1}{6}\\times\\frac{1}{6}+\\frac{1}{6}\\times\\frac{1}{6}=\\frac{6}{36}\\\\\n",
    "P_{A+B}(8)=P_{2+6}+P_{3+5}+P_{4+4}+P_{5+3}+P_{6+2}=\\frac{1}{6}\\times\\frac{1}{6}+\\frac{1}{6}\\times\\frac{1}{6}+\\frac{1}{6}\\times\\frac{1}{6}+\\frac{1}{6}\\times\\frac{1}{6}+\\frac{1}{6}\\times\\frac{1}{6}=\\frac{5}{36}\\\\\n",
    "P_{A+B}(9)=P_{3+6}+P_{4+5}+P_{5+4}+P_{6+3}=\\frac{1}{6}\\times\\frac{1}{6}+\\frac{1}{6}\\times\\frac{1}{6}+\\frac{1}{6}\\times\\frac{1}{6}+\\frac{1}{6}\\times\\frac{1}{6}=\\frac{4}{36}\\\\\n",
    "P_{A+B}(10)=P_{4+6}+P_{5+5}+P_{6+4}=\\frac{1}{6}\\times\\frac{1}{6}+\\frac{1}{6}\\times\\frac{1}{6}+\\frac{1}{6}\\times\\frac{1}{6}=\\frac{3}{36}\\\\\n",
    "P_{A+B}(11)=P_{5+6}+P_{6+5}=\\frac{1}{6}\\times\\frac{1}{6}+\\frac{1}{6}\\times\\frac{1}{6}=\\frac{2}{36}\\\\\n",
    "P_{A+B}(12)=P_{6+6}=\\frac{1}{6}\\times\\frac{1}{6}=\\frac{1}{36}$$"
   ]
  },
  {
   "cell_type": "markdown",
   "id": "01d0b34a-939b-456c-9475-14792f0a0c38",
   "metadata": {},
   "source": [
    "Using program, "
   ]
  },
  {
   "cell_type": "code",
   "execution_count": 180,
   "id": "ffc52d59-4ec3-42ed-9635-9e9e03b0bdd6",
   "metadata": {},
   "outputs": [
    {
     "name": "stdout",
     "output_type": "stream",
     "text": [
      "[0.027777777777777776, 0.05555555555555555, 0.08333333333333333, 0.1111111111111111, 0.1388888888888889, 0.16666666666666669, 0.1388888888888889, 0.1111111111111111, 0.08333333333333333, 0.05555555555555555, 0.027777777777777776]\n"
     ]
    },
    {
     "data": {
      "text/plain": [
       "1.0000000000000002"
      ]
     },
     "execution_count": 180,
     "metadata": {},
     "output_type": "execute_result"
    }
   ],
   "source": [
    "# A function that computes the convolution in equation (1)\n",
    "def convolvedice(x):\n",
    "    prob=0\n",
    "    for i in range(6-abs(x-7)):\n",
    "        prob+=1/6*1/6\n",
    "    return prob\n",
    "\n",
    "# The list of probabilities corresponding to rolling two dices and sums to [2,3,4,...12]\n",
    "y=list(map(lambda i: convolvedice(i), range(2,13)))\n",
    "print(y)\n",
    "sum(y)"
   ]
  },
  {
   "cell_type": "markdown",
   "id": "9a40dbab-5cd1-4923-a1c6-077042301454",
   "metadata": {},
   "source": [
    "It makes sense that the list of all probabilities sums to 1"
   ]
  },
  {
   "cell_type": "code",
   "execution_count": 203,
   "id": "0d4f72f3-bff1-4213-b311-7a4f5ab30891",
   "metadata": {},
   "outputs": [
    {
     "data": {
      "image/png": "[encoded data removed]",
      "text/plain": [
       "<Figure size 432x288 with 1 Axes>"
      ]
     },
     "metadata": {
      "needs_background": "light"
     },
     "output_type": "display_data"
    }
   ],
   "source": [
    "#generate a histogram with random dices \n",
    "import matplotlib.pyplot as plt\n",
    "import numpy as np\n",
    "import random\n",
    "\n",
    "x=[random.randint(1, 6)+random.randint(1, 6) for i in range(100000)]\n",
    "plt.hist(x)\n",
    "plt.xlabel('sum')\n",
    "plt.ylabel('frequency')\n",
    "plt.show()"
   ]
  },
  {
   "cell_type": "markdown",
   "id": "b0faeb62-50f2-42e1-b776-2d1da9ecb6fa",
   "metadata": {},
   "source": [
    "# 3. Calculate the mean and the variance of the distribution in problem 2"
   ]
  },
  {
   "cell_type": "code",
   "execution_count": 206,
   "id": "6a184d67-ba83-4dd0-b29c-363b2d6862cd",
   "metadata": {},
   "outputs": [
    {
     "data": {
      "text/plain": [
       "7.01183"
      ]
     },
     "execution_count": 206,
     "metadata": {},
     "output_type": "execute_result"
    }
   ],
   "source": [
    "from statistics import mean, variance\n",
    "\n",
    "# Mean of all the sums of rolling two dices 100000 times \n",
    "mean(x)"
   ]
  },
  {
   "cell_type": "code",
   "execution_count": 207,
   "id": "c3a082e6-fe5d-43c6-b61d-b16aab7520bf",
   "metadata": {},
   "outputs": [],
   "source": [
    "#Variance of all the sums of rolling two dices 100000 times \n",
    "\n",
    "variance(x)"
   ]
  },
  {
   "cell_type": "markdown",
   "id": "f7000f38-db80-4426-949d-2f76339fc352",
   "metadata": {},
   "source": [
    "If the question asks the mean and variance of the probability for each possible sum, then"
   ]
  },
  {
   "cell_type": "code",
   "execution_count": 213,
   "id": "26c30a47-2c5e-4058-8886-69deb0f39dbb",
   "metadata": {},
   "outputs": [
    {
     "data": {
      "text/plain": [
       "0.09090909090909091"
      ]
     },
     "execution_count": 213,
     "metadata": {},
     "output_type": "execute_result"
    }
   ],
   "source": [
    "# Mean of all the probabilities \n",
    "mean(y)"
   ]
  },
  {
   "cell_type": "code",
   "execution_count": 214,
   "id": "9c0b00af-b645-4c00-8f26-29ed19dbca8c",
   "metadata": {},
   "outputs": [
    {
     "data": {
      "text/plain": [
       "0.0021745230078563417"
      ]
     },
     "execution_count": 214,
     "metadata": {},
     "output_type": "execute_result"
    }
   ],
   "source": [
    "# Variance of all the probabilities \n",
    "variance(y)"
   ]
  },
  {
   "cell_type": "markdown",
   "id": "30d7c764-e642-40b2-9c21-0931d2b6f87b",
   "metadata": {},
   "source": [
    "# 4. Graph the average of 10 dices"
   ]
  },
  {
   "cell_type": "code",
   "execution_count": 211,
   "id": "50478bd5-1e7a-4991-a2a2-a941f148ca8f",
   "metadata": {},
   "outputs": [
    {
     "data": {
      "image/png": "[encoded data removed]",
      "text/plain": [
       "<Figure size 432x288 with 1 Axes>"
      ]
     },
     "metadata": {
      "needs_background": "light"
     },
     "output_type": "display_data"
    }
   ],
   "source": [
    "x=[random.randint(1, 6)+random.randint(1, 6) for i in range(10)]\n",
    "plt.hist(x)\n",
    "plt.xlabel('sum')\n",
    "plt.ylabel('frequency')\n",
    "plt.show()"
   ]
  },
  {
   "cell_type": "markdown",
   "id": "eb03aea0-3e97-46d1-bc56-e92358663f01",
   "metadata": {},
   "source": [
    "It looks like a Gaussian: by the central limit theorem most distributions after enough trials would average to be a Gaussian "
   ]
  },
  {
   "cell_type": "markdown",
   "id": "10b37f6c-aeee-4e58-b4e6-2046d28e0b83",
   "metadata": {},
   "source": [
    "# 5. Show that the sum and average of an initially Gaussian distribution is also a Guassian "
   ]
  },
  {
   "cell_type": "markdown",
   "id": "b9e0bbfc-6f38-449c-a1d4-3cd48d081cd5",
   "metadata": {},
   "source": [
    "For two Gaussian distributions with different mean and variance, their sum can be expressed as \n",
    "$$\n",
    "P_{X+Y}(u)=\\frac{1}{\\sqrt{2 \\pi\\left(\\sigma_{x}^{2}+\\sigma_{y}^{2}\\right)}} e^{-\\left[u-\\left(\\mu_{x}+\\mu_{y}\\right)\\right]^{2} /\\left[2\\left(\\sigma_{x}^{2}+\\sigma_{y}^{2}\\right)\\right]}\n",
    "$$"
   ]
  },
  {
   "cell_type": "markdown",
   "id": "e5a56d71-8c22-4a43-b78b-6efa9e46eff5",
   "metadata": {},
   "source": [
    "The sum is also a Gaussian with mean $$ \\mu_{X+Y}=\\mu_{x}+\\mu_{y}$$ and variance $$ \\sigma^2_{X+Y}=\\sigma^2_{x}+\\sigma^2_{y}$$"
   ]
  },
  {
   "cell_type": "markdown",
   "id": "5ea3a66c-a0a7-417b-8100-e206c095a5b8",
   "metadata": {},
   "source": [
    "Similarly, the average of two Gaussians with different mean and variance is also a Gaussian up to a scale factor."
   ]
  }
 ],
 "metadata": {
  "kernelspec": {
   "display_name": "Python 3",
   "language": "python",
   "name": "python3"
  },
  "language_info": {
   "codemirror_mode": {
    "name": "ipython",
    "version": 3
   },
   "file_extension": ".py",
   "mimetype": "text/x-python",
   "name": "python",
   "nbconvert_exporter": "python",
   "pygments_lexer": "ipython3",
   "version": "3.8.8"
  }
 },
 "nbformat": 4,
 "nbformat_minor": 5
}
