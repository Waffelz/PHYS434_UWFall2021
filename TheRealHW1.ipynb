{
 "cells": [
  {
   "cell_type": "code",
   "execution_count": 2,
   "id": "e81d6705-55df-4841-bf19-7fa18d361a98",
   "metadata": {},
   "outputs": [],
   "source": [
    "from scipy.stats import norm\n",
    "import numpy as np\n",
    "import matplotlib\n",
    "import matplotlib.pyplot as plt\n",
    "import scipy\n",
    "from scipy import stats\n",
    "import matplotlib.pyplot as plt\n"
   ]
  },
  {
   "cell_type": "markdown",
   "id": "a5e43204-ab8c-40d0-9682-9cc4c953d755",
   "metadata": {},
   "source": [
    "# 1. A. Normal Distribution"
   ]
  },
  {
   "cell_type": "markdown",
   "id": "a2055a91-f912-4438-8a0b-56214f221325",
   "metadata": {},
   "source": [
    "The normal distribution is given by $$G(x)=\\frac{e^{-\\frac{(x-\\mu)^{2}}{2 \\sigma^{2}}}}{\\sqrt{2 \\pi} \\sigma}$$ with mean $$\\mu$$ and standard deviation $$\\sigma$$. It is the most normal distribution:)"
   ]
  },
  {
   "cell_type": "markdown",
   "id": "e9098499-bb32-466c-930b-cd4e5f6ec15a",
   "metadata": {},
   "source": [
    "# 1.B Try integrating the normal distribution"
   ]
  },
  {
   "cell_type": "markdown",
   "id": "5a2bb641-3b15-4794-8398-1adbfced8323",
   "metadata": {},
   "source": [
    "The following code generates a plot of the cumulative distribution function of the normal distribution. The function form is given by $$CDF(x)=\\frac{1}{\\sqrt{2 \\pi}} \\int_{-\\infty}^{x} e^{-t^{2} / 2} d t$$\n",
    "In the plot of the cdf, for any given x, the corresponding y value keeps track of the total probability that a random variable is less than x, hence the integration starts from the negative infinity. "
   ]
  },
  {
   "cell_type": "code",
   "execution_count": 33,
   "id": "78c1495f-a6d0-4452-aa99-071e11b58d5b",
   "metadata": {},
   "outputs": [
    {
     "data": {
      "text/plain": [
       "Text(0.5, 1.0, 'Figure1')"
      ]
     },
     "execution_count": 33,
     "metadata": {},
     "output_type": "execute_result"
    },
    {
     "data": {
      "image/png": "[encoded data removed]",
      "text/plain": [
       "<Figure size 432x288 with 1 Axes>"
      ]
     },
     "metadata": {
      "needs_background": "light"
     },
     "output_type": "display_data"
    }
   ],
   "source": [
    "fig, ax = plt.subplots(1, 1)\n",
    "mean, var, skew, kurt = norm.stats(moments='mvsk')\n",
    "x = np.linspace(norm.ppf(0.01), norm.ppf(0.99), 100)\n",
    "ax.plot(x, stats.norm.cdf(x,loc = 0, scale = 1), 'r-', lw=5, alpha=0.6, label='norm cdf')\n",
    "plt.xlabel('x(# of sigma)')\n",
    "plt.ylabel('y(probability)')\n",
    "plt.title('Figure1')"
   ]
  },
  {
   "cell_type": "markdown",
   "id": "be81caff-7921-4a90-9aa0-6541a0481b65",
   "metadata": {},
   "source": [
    "Try a couple different probabilities: "
   ]
  },
  {
   "cell_type": "code",
   "execution_count": 25,
   "id": "2a1a1513-87eb-4816-828a-cf53676788e3",
   "metadata": {},
   "outputs": [
    {
     "data": {
      "text/plain": [
       "0.7549029063256906"
      ]
     },
     "execution_count": 25,
     "metadata": {},
     "output_type": "execute_result"
    }
   ],
   "source": [
    "stats.norm.cdf(0.69,loc = 0, scale = 1)"
   ]
  },
  {
   "cell_type": "code",
   "execution_count": 23,
   "id": "caecb919-4260-42ff-8344-a352948d9740",
   "metadata": {},
   "outputs": [
    {
     "data": {
      "text/plain": [
       "0.15865525393145707"
      ]
     },
     "execution_count": 23,
     "metadata": {},
     "output_type": "execute_result"
    }
   ],
   "source": [
    "stats.norm.cdf(-1,loc = 0, scale = 1)"
   ]
  },
  {
   "cell_type": "markdown",
   "id": "185e7cdb-01d6-404d-9536-31fd86abf312",
   "metadata": {},
   "source": [
    "All values match the z table on wikipedia."
   ]
  },
  {
   "cell_type": "markdown",
   "id": "e51529fe-ab81-47a6-b4da-4ba5a238f994",
   "metadata": {},
   "source": [
    "# 1.C. Integrate the inverse of a normal distribution"
   ]
  },
  {
   "cell_type": "markdown",
   "id": "ae614ea7-446e-4d56-9dec-c944fff6d4c9",
   "metadata": {},
   "source": [
    "Given a probability, find the # of sigmas from the center:"
   ]
  },
  {
   "cell_type": "code",
   "execution_count": 30,
   "id": "f6fa0f08-ba83-464d-9ed1-216830f44658",
   "metadata": {},
   "outputs": [
    {
     "data": {
      "text/plain": [
       "0.6900000000000001"
      ]
     },
     "execution_count": 30,
     "metadata": {},
     "output_type": "execute_result"
    }
   ],
   "source": [
    "stats.norm.ppf(0.7549029063256906, loc=0, scale=1)"
   ]
  },
  {
   "cell_type": "code",
   "execution_count": 31,
   "id": "49ec5e15-56dc-40e8-b6f4-f10afd1c2c13",
   "metadata": {},
   "outputs": [
    {
     "data": {
      "text/plain": [
       "-1.0"
      ]
     },
     "execution_count": 31,
     "metadata": {},
     "output_type": "execute_result"
    }
   ],
   "source": [
    "stats.norm.ppf(0.15865525393145707, loc=0, scale=1)"
   ]
  },
  {
   "cell_type": "markdown",
   "id": "6ec49aec-f996-41ea-a31e-99137eddfdf7",
   "metadata": {},
   "source": [
    "All values match with the # of sigmas we compared to the z table above.\n",
    "The code below plots the inverse of the CDF of the normal distribution."
   ]
  },
  {
   "cell_type": "code",
   "execution_count": 34,
   "id": "9194e2ce-4115-4693-a819-400f59028ed9",
   "metadata": {},
   "outputs": [
    {
     "data": {
      "text/plain": [
       "Text(0.5, 1.0, 'Figure2')"
      ]
     },
     "execution_count": 34,
     "metadata": {},
     "output_type": "execute_result"
    },
    {
     "data": {
      "image/png": "[encoded data removed]",
      "text/plain": [
       "<Figure size 432x288 with 1 Axes>"
      ]
     },
     "metadata": {
      "needs_background": "light"
     },
     "output_type": "display_data"
    }
   ],
   "source": [
    "fig, ax = plt.subplots(1, 1)\n",
    "mean, var, skew, kurt = norm.stats(moments='mvsk')\n",
    "x = np.linspace(norm.ppf(0.01), norm.ppf(0.99), 100)\n",
    "ax.plot(x, stats.norm.ppf(x,loc = 0, scale = 1), 'r-', lw=5, alpha=0.6, label='norm cdf')\n",
    "plt.xlabel('x(probability)')\n",
    "plt.ylabel('y(# of sigma)')\n",
    "plt.title('Figure2')"
   ]
  },
  {
   "cell_type": "markdown",
   "id": "8386ca3d-163c-4f3e-acc2-1f8fdf89af0d",
   "metadata": {},
   "source": [
    "# 1. D. Negative Sigma\n",
    "The negative or positive values on the y axis correspond to different directions from x=0, the same as the x axis of Figure 1. "
   ]
  },
  {
   "cell_type": "markdown",
   "id": "8b6266f1-f936-4e15-ba93-3ffa375bb8c8",
   "metadata": {},
   "source": [
    "# 2. A. Rayleigh distribution "
   ]
  },
  {
   "cell_type": "markdown",
   "id": "9b729f33-7c99-4652-a4c6-4adc07ca9f48",
   "metadata": {},
   "source": [
    "The Rayleigh distribution describes the distribution of non-negative random variables, like the wind velocity or length of random 2D vectors. The probability density is given by $$P(r)=\\frac{r e^\\frac{-r^{2}}{2 s^{2}}}{s^{2}}$$ for $$r\\geq 0$$, where s is the scale parameter. The larger the scale parameter, the more spread out the distribution appears. "
   ]
  },
  {
   "cell_type": "markdown",
   "id": "707a8304-318e-441d-82ed-1ca0477b9151",
   "metadata": {},
   "source": [
    "# B. Make plots"
   ]
  },
  {
   "cell_type": "markdown",
   "id": "3c8f67c7-c161-45c6-8faa-b42166365a55",
   "metadata": {},
   "source": [
    "The following code generates an overlay of the discrete and continuous Rayleigh distribution with scale parameter 1. The peak of the plot is located at x=1."
   ]
  },
  {
   "cell_type": "code",
   "execution_count": 81,
   "id": "5d699fc9-4ef9-48cb-b981-c682d0ee7eea",
   "metadata": {},
   "outputs": [
    {
     "data": {
      "text/plain": [
       "Text(0.5, 1.0, 'Figure3')"
      ]
     },
     "execution_count": 81,
     "metadata": {},
     "output_type": "execute_result"
    },
    {
     "data": {
      "image/png": "[encoded data removed]",
      "text/plain": [
       "<Figure size 432x288 with 1 Axes>"
      ]
     },
     "metadata": {
      "needs_background": "light"
     },
     "output_type": "display_data"
    }
   ],
   "source": [
    "from scipy.stats import rayleigh\n",
    "fig, ax = plt.subplots(1, 1)\n",
    "x = np.linspace(rayleigh.ppf(0), rayleigh.ppf(0.9999), 1000000)\n",
    "r = rayleigh.rvs(size=1000000)\n",
    "ax.hist(r, 10000, density=True, histtype='stepfilled', alpha=1)\n",
    "ax.plot(x, rayleigh.pdf(x, 0, 1), 'r-', lw=5, alpha=0.5, label='rayleigh pdf')\n",
    "plt.xlabel('x(# of sigma)')\n",
    "plt.ylabel('y(probability)')\n",
    "plt.title('Figure3')"
   ]
  },
  {
   "cell_type": "markdown",
   "id": "c16517b6-190e-486a-a7e1-f5e75d235aca",
   "metadata": {},
   "source": [
    "while the Rayleigh distribution with scale parameter 2 looks more spread out and the peak position also shifts to 2: "
   ]
  },
  {
   "cell_type": "code",
   "execution_count": 82,
   "id": "399cc5d6-3135-4705-93ff-71489ce902b1",
   "metadata": {},
   "outputs": [
    {
     "data": {
      "text/plain": [
       "Text(0.5, 1.0, 'Figure4')"
      ]
     },
     "execution_count": 82,
     "metadata": {},
     "output_type": "execute_result"
    },
    {
     "data": {
      "image/png": "[encoded data removed]",
      "text/plain": [
       "<Figure size 432x288 with 1 Axes>"
      ]
     },
     "metadata": {
      "needs_background": "light"
     },
     "output_type": "display_data"
    }
   ],
   "source": [
    "fig, ax = plt.subplots(1, 1)\n",
    "ax.plot(x, rayleigh.pdf(x, 0, 2), 'r-', lw=5, alpha=0.5, label='rayleigh pdf')\n",
    "plt.xlabel('x(# of sigma)')\n",
    "plt.ylabel('y(probability)')\n",
    "plt.title('Figure4')"
   ]
  },
  {
   "cell_type": "markdown",
   "id": "4d63e147-945e-4328-91eb-18ba02f366bc",
   "metadata": {},
   "source": [
    "# 3. A. Select a value: 0.72"
   ]
  },
  {
   "cell_type": "markdown",
   "id": "5898676f-6aa5-4a14-9d6b-215617f95c65",
   "metadata": {},
   "source": [
    "# 3. B. State the statistical question"
   ]
  },
  {
   "cell_type": "markdown",
   "id": "652c3d3f-7e21-4732-8e7c-6d1d931690c6",
   "metadata": {},
   "source": [
    "Throwing darts onto a complex plane, what's the probablity that the dart hits a complex number whose normalized absolute value is less than 0.72? "
   ]
  },
  {
   "cell_type": "markdown",
   "id": "bd3d401d-d4ae-47c1-a549-2bcb8be7760a",
   "metadata": {},
   "source": [
    "# 3.C. Convert your word question into a mathematical integral"
   ]
  },
  {
   "cell_type": "markdown",
   "id": "e7e76065-df75-48a5-a120-ba930f54b75b",
   "metadata": {},
   "source": [
    "Since the absolute values of random complex numbers follow the Rayleigh distribution, the probablity that the dart hits a complex number with a normalized absolute value less than 0.72 can be found by integrating the probability density function of the Rayleigh distribution(s=1): $$P(dart<0.72)=\\int_{0}^{0.72}r e^\\frac{-r^{2}}{2} dr$$. The lower bound of the integral starts at zero because the Rayleigh distribution is defined for non-negative values. "
   ]
  },
  {
   "cell_type": "markdown",
   "id": "0bf1a77c-1237-465f-97d5-1df0dc129292",
   "metadata": {},
   "source": [
    "# 3. D. Calculate the probability that the background produced the signal"
   ]
  },
  {
   "cell_type": "markdown",
   "id": "c7494dfa-381b-498c-8ea9-5519b07a23b2",
   "metadata": {},
   "source": [
    "First convert 0.72 into # of sigmas: "
   ]
  },
  {
   "cell_type": "code",
   "execution_count": 142,
   "id": "15073811-cc8e-4b49-9e80-9a02cf61d868",
   "metadata": {},
   "outputs": [
    {
     "data": {
      "text/plain": [
       "1.5955974904799064"
      ]
     },
     "execution_count": 142,
     "metadata": {},
     "output_type": "execute_result"
    }
   ],
   "source": [
    "rayleigh.ppf(0.72)"
   ]
  },
  {
   "cell_type": "markdown",
   "id": "f4c04392-f4f3-4853-bc94-9430d7265e83",
   "metadata": {},
   "source": [
    "Then integrate from this number of sigma to positive infinity to find the probability that the background gives the signal(assuming the background is normally distributed): "
   ]
  },
  {
   "cell_type": "code",
   "execution_count": 144,
   "id": "fb234d8c-2852-4f69-a155-ac6de8da6685",
   "metadata": {},
   "outputs": [
    {
     "data": {
      "text/plain": [
       "0.05528934409192965"
      ]
     },
     "execution_count": 144,
     "metadata": {},
     "output_type": "execute_result"
    }
   ],
   "source": [
    "1-norm.cdf(1.5955974904799064, loc=0, scale=1)"
   ]
  },
  {
   "cell_type": "markdown",
   "id": "f37f0bb2-0a2f-4d16-982c-0f67bd2086b2",
   "metadata": {},
   "source": [
    "The default cdf integrates from negative infinity to x, here its complement(integrate from x to positive infinity) is found by 1-cdf(x). "
   ]
  },
  {
   "cell_type": "markdown",
   "id": "1cad989e-c779-4444-82c4-bb95b563efae",
   "metadata": {},
   "source": [
    "# 3. E. Convert your probability into an equivalent 'sigma'"
   ]
  },
  {
   "cell_type": "markdown",
   "id": "7e1c3cba-1f0c-4d0a-afb6-af535cbd7ac7",
   "metadata": {},
   "source": [
    "With a probability in mind, we can plug it into the inverse of the cumulative distribution function to find the number of sigmas it corresponds to. "
   ]
  },
  {
   "cell_type": "code",
   "execution_count": 145,
   "id": "3a0159d8-09c7-4828-b6e6-e7bdcce01e1f",
   "metadata": {},
   "outputs": [
    {
     "data": {
      "text/plain": [
       "1.5955974904799064"
      ]
     },
     "execution_count": 145,
     "metadata": {},
     "output_type": "execute_result"
    }
   ],
   "source": [
    "rayleigh.ppf(0.72, loc=0, scale=1)"
   ]
  },
  {
   "cell_type": "markdown",
   "id": "0c197b05-8c52-46b4-aed8-a972befe6a1f",
   "metadata": {},
   "source": [
    "# 4. Try various hypothetical measurement values and see how the probabilities and 'sigmas' change"
   ]
  },
  {
   "cell_type": "code",
   "execution_count": 147,
   "id": "6ae82867-823f-42b5-8533-c065b76c0982",
   "metadata": {},
   "outputs": [
    {
     "data": {
      "text/plain": [
       "inf"
      ]
     },
     "execution_count": 147,
     "metadata": {},
     "output_type": "execute_result"
    }
   ],
   "source": [
    "rayleigh.ppf(1, loc=0, scale=1)"
   ]
  },
  {
   "cell_type": "code",
   "execution_count": 150,
   "id": "07540954-f3b4-489c-b158-0579eb29a88b",
   "metadata": {},
   "outputs": [
    {
     "data": {
      "text/plain": [
       "0.0"
      ]
     },
     "execution_count": 150,
     "metadata": {},
     "output_type": "execute_result"
    }
   ],
   "source": [
    "rayleigh.ppf(0, loc=0, scale=1)"
   ]
  },
  {
   "cell_type": "markdown",
   "id": "bfb68428-80d0-4ace-816a-921fec511c81",
   "metadata": {},
   "source": [
    "The end points of the distribution checks out!"
   ]
  },
  {
   "cell_type": "markdown",
   "id": "9a99c3b2-854b-4907-b6e9-38303b6afb96",
   "metadata": {},
   "source": [
    "# Non-continuous Distribution: Poisson "
   ]
  },
  {
   "cell_type": "markdown",
   "id": "ea2f0aa8-dc22-4aac-bf6e-a435d623c3c9",
   "metadata": {},
   "source": [
    "# 1. A. Intro"
   ]
  },
  {
   "cell_type": "markdown",
   "id": "8cadd1b8-74ef-4966-b72f-62cfde230656",
   "metadata": {},
   "source": [
    "The Poisson distribution is useful for photon statistics. \n",
    "The function form of the distribution is given by $$P(n)=\\frac{e^{-\\mu} \\mu^{n}}{n !}$$ for non-negative integer n. The mean of the distribution is $$\\mu$$. The larger the mean, the more spread-out the distribution appears. "
   ]
  },
  {
   "cell_type": "markdown",
   "id": "48f87b6c-700e-41b9-aa20-92daa8afa048",
   "metadata": {},
   "source": [
    "# B. Make plots"
   ]
  },
  {
   "cell_type": "markdown",
   "id": "41b719f3-2da5-489a-b55c-d7e786cd534c",
   "metadata": {},
   "source": [
    "The following code generates Poisson distribution with different means. "
   ]
  },
  {
   "cell_type": "markdown",
   "id": "985251bf-ff7a-4094-b530-e93c2713fa3f",
   "metadata": {},
   "source": [
    "mean=20"
   ]
  },
  {
   "cell_type": "code",
   "execution_count": 116,
   "id": "6e9ab495-8b08-4e16-8ec6-48c5529ba449",
   "metadata": {},
   "outputs": [
    {
     "data": {
      "text/plain": [
       "Text(0.5, 1.0, 'Figure5')"
      ]
     },
     "execution_count": 116,
     "metadata": {},
     "output_type": "execute_result"
    },
    {
     "data": {
      "image/png": "[encoded data removed]",
      "text/plain": [
       "<Figure size 432x288 with 1 Axes>"
      ]
     },
     "metadata": {
      "needs_background": "light"
     },
     "output_type": "display_data"
    }
   ],
   "source": [
    "from scipy.stats import poisson\n",
    "import matplotlib.pyplot as plt\n",
    "fig, ax = plt.subplots(1, 1)\n",
    "mu = 20\n",
    "x = np.arange(poisson.ppf(0.01, mu), poisson.ppf(0.99, mu))\n",
    "ax.plot(x, poisson.pmf(x, mu), 'bo', ms=10, label='poisson pmf')\n",
    "ax.vlines(x, 0, poisson.pmf(x, mu), colors='b', lw=5, alpha=0.5)\n",
    "plt.xlim([0,50])\n",
    "plt.xlabel('x(#)')\n",
    "plt.ylabel('y(probability)')\n",
    "plt.title('Figure5')"
   ]
  },
  {
   "cell_type": "markdown",
   "id": "50d50307-0ef7-4440-b9cf-7bd105d96021",
   "metadata": {},
   "source": [
    "mean=10"
   ]
  },
  {
   "cell_type": "code",
   "execution_count": 115,
   "id": "a010dfd2-a3b0-4980-90c9-7b7ffa131896",
   "metadata": {},
   "outputs": [
    {
     "data": {
      "text/plain": [
       "Text(0.5, 1.0, 'Figure6')"
      ]
     },
     "execution_count": 115,
     "metadata": {},
     "output_type": "execute_result"
    },
    {
     "data": {
      "image/png": "[encoded data removed]",
      "text/plain": [
       "<Figure size 432x288 with 1 Axes>"
      ]
     },
     "metadata": {
      "needs_background": "light"
     },
     "output_type": "display_data"
    }
   ],
   "source": [
    "fig, ax = plt.subplots(1, 1)\n",
    "x = np.arange(poisson.ppf(0.01, 10), poisson.ppf(0.99, mu))\n",
    "ax.plot(x, poisson.pmf(x, 10), 'bo', ms=10, label='poisson pmf')\n",
    "ax.vlines(x, 0, poisson.pmf(x, 10), colors='b', lw=5, alpha=0.5)\n",
    "plt.xlim([0,50])\n",
    "plt.xlabel('x(#)')\n",
    "plt.ylabel('y(probability)')\n",
    "plt.title('Figure6')"
   ]
  },
  {
   "cell_type": "markdown",
   "id": "6c307989-8c5e-4be0-ab2c-eeb7dafe1fc3",
   "metadata": {},
   "source": [
    "Observation: the greater the mean, the more spread-out the distribution appears."
   ]
  },
  {
   "cell_type": "markdown",
   "id": "5a0da513-18db-47ed-8194-6cc62e791ef8",
   "metadata": {},
   "source": [
    "# C. A hypothetical Q&A"
   ]
  },
  {
   "cell_type": "markdown",
   "id": "5dfbc0c0-d6d4-4cd9-b744-19b3a5e50ae7",
   "metadata": {},
   "source": [
    "Q: What's the probability that 100 photons are detected when a pulse of laser consisting an average number of 500 photons arrive at a single photon counting module(assuming the detection efficiency is perfect)?  "
   ]
  },
  {
   "cell_type": "markdown",
   "id": "febb2765-3008-4468-aa6a-534e8cdc1a0e",
   "metadata": {},
   "source": [
    "A: The photons in laser beams can be regarded as in a coherent state, and the projection of a coherent state onto Fock states is Poissonian. So the question can be rephrased as "
   ]
  },
  {
   "cell_type": "markdown",
   "id": "fed9a577-e1c1-4d1a-bb04-25f8828a2892",
   "metadata": {},
   "source": [
    "$$P(total n=100)=\\int_{0}^{100}\\frac{e^{-\\mu} \\mu^{n}}{n !}dn\\approx 0$$ "
   ]
  },
  {
   "cell_type": "code",
   "execution_count": 130,
   "id": "a527f17e-c4ab-4be3-bcca-657204e2b1b6",
   "metadata": {},
   "outputs": [
    {
     "data": {
      "text/plain": [
       "7.523088463050328e-106"
      ]
     },
     "execution_count": 130,
     "metadata": {},
     "output_type": "execute_result"
    }
   ],
   "source": [
    "poisson.cdf(100, 500)"
   ]
  },
  {
   "cell_type": "markdown",
   "id": "919f0b22-34b6-4630-b48c-319010732f2b",
   "metadata": {},
   "source": [
    "this is close enough to zero"
   ]
  },
  {
   "cell_type": "markdown",
   "id": "090d510f-495b-49d5-afcd-aaeab45a61b9",
   "metadata": {},
   "source": [
    "# D. Discrete distributions --> discrete probabilities and 'sigmas'. \n",
    "Think about this and discuss the implications for experiments."
   ]
  },
  {
   "cell_type": "markdown",
   "id": "eaefafc8-75b5-47fd-930a-357fdecc6d77",
   "metadata": {},
   "source": [
    "Discrete probabilities: The measurable probabilities of non-continuous distributions should match the number of all possible trials. Since the sampling is discrete, the all possible probabilities are also discrete. "
   ]
  },
  {
   "cell_type": "markdown",
   "id": "484ab5dd-aee7-43ae-b308-5a85865a9de5",
   "metadata": {},
   "source": [
    "Discrete \"sigmas\": Plugging a probability into the inverse function of the CDF of the discrete distribution gives the variable value that yields the probability. Therefore the range of inverse CDF is discrete. When translated into the number of sigmas, the number would also be discrete and share the same properties as the set of all possible trials. For instance, only integer number of photons can be measured, so the inverse of the CDF of the Poisson distribution always gives an integer"
   ]
  },
  {
   "cell_type": "code",
   "execution_count": 137,
   "id": "4188558d-0134-482e-8058-be696caec18e",
   "metadata": {},
   "outputs": [
    {
     "data": {
      "text/plain": [
       "504.0"
      ]
     },
     "execution_count": 137,
     "metadata": {},
     "output_type": "execute_result"
    }
   ],
   "source": [
    "poisson.ppf(0.567890, 500.1)"
   ]
  },
  {
   "cell_type": "markdown",
   "id": "a54cb211-6426-4cca-b49a-864720fa3cc9",
   "metadata": {},
   "source": [
    "# E. Discrete result, continuous parameters\n",
    "For example, the mean of a Poisson distribution can be 9.2. Think about and explain why this makes sense and what changes continuously and what doesn't."
   ]
  },
  {
   "cell_type": "markdown",
   "id": "3cb6a57f-e0b8-4024-9961-965612a61ceb",
   "metadata": {},
   "source": [
    "The mean of any distribution over an interval is defined as $$\\bar{f}=\\frac{1}{b-a} \\int_{a}^{b} f(x) d x$$, and for a discrete distribution $$\\bar{f}=\\frac{1}{b-a} \\sum_{a}^{b} f(x) $$. The mean needs not be integer multiples of the sampling interval. "
   ]
  },
  {
   "cell_type": "markdown",
   "id": "37e5714b-5687-460f-9b56-8f92adccbbea",
   "metadata": {},
   "source": [
    "The sampling size may change continuously, but the mean and variance stay the same for Poisson distribution"
   ]
  }
 ],
 "metadata": {
  "kernelspec": {
   "display_name": "Python 3",
   "language": "python",
   "name": "python3"
  },
  "language_info": {
   "codemirror_mode": {
    "name": "ipython",
    "version": 3
   },
   "file_extension": ".py",
   "mimetype": "text/x-python",
   "name": "python",
   "nbconvert_exporter": "python",
   "pygments_lexer": "ipython3",
   "version": "3.8.8"
  }
 },
 "nbformat": 4,
 "nbformat_minor": 5
}
